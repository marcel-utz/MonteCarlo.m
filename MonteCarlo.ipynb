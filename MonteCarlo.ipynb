{
 "cells": [
  {
   "cell_type": "markdown",
   "metadata": {},
   "source": [
    "# Monte Carlo\n",
    "\n",
    "Simple Monte Carlo simulation in Julia -- benchmark against Mathematica\n",
    "(c) Marcel Utz, University of Southampton\n",
    "\n",
    "marcel.utz@gmx.net"
   ]
  },
  {
   "cell_type": "code",
   "execution_count": 9,
   "metadata": {},
   "outputs": [
    {
     "data": {
      "text/plain": [
       "MonteCarloStep (generic function with 1 method)"
      ]
     },
     "execution_count": 9,
     "metadata": {},
     "output_type": "execute_result"
    }
   ],
   "source": [
    "function MonteCarloStep(F,q::Array{Float64,1},scale::Array{Float64,1},T::Real)\n",
    "    l=length(q);\n",
    "    E0=F(q);\n",
    "    qnew=q+scale.*rand(l);\n",
    "    Enew=F(qnew);\n",
    "    if (Enew-E0 < 0 || exp( (Enew-E0)/T) < rand() )\n",
    "        return (qnew,Enew,1.0);\n",
    "    else\n",
    "        return (q,E0,0.0);\n",
    "    end\n",
    "end\n",
    "        "
   ]
  },
  {
   "cell_type": "markdown",
   "metadata": {},
   "source": [
    "## Modified Himmelblau function\n",
    "\n",
    "This is Himmelblau's function, $f(x)=(x^2+y-11)^2+(x+y^2-7)^2$, plus an additional term to ensure the minima are not all equally deep:"
   ]
  },
  {
   "cell_type": "code",
   "execution_count": 10,
   "metadata": {},
   "outputs": [
    {
     "data": {
      "text/plain": [
       "HimmelBlau (generic function with 1 method)"
      ]
     },
     "execution_count": 10,
     "metadata": {},
     "output_type": "execute_result"
    }
   ],
   "source": [
    "function HimmelBlau(q::Array{Float64,1})\n",
    "    return (q[1]^2+q[2]-11)^2+(q[1]+q[2]^2-7)^2-10*q[1]*q[2];\n",
    "end\n"
   ]
  },
  {
   "cell_type": "code",
   "execution_count": 11,
   "metadata": {},
   "outputs": [
    {
     "name": "stdout",
     "output_type": "stream",
     "text": [
      "  0.784710 seconds (13.00 M allocations: 549.506 MiB, 14.13% gc time)\n"
     ]
    }
   ],
   "source": [
    "nsteps=1000000;\n",
    "q0=[0.,0.];\n",
    "scale=[0.05,0.05];\n",
    "traj=zeros(Float64,nsteps,4);\n",
    "T0=2000;\n",
    "q=q0;\n",
    "\n",
    "@time for k=1:nsteps\n",
    "    (q,enew,accept)=MonteCarloStep(HimmelBlau,q,scale,T0) ;\n",
    "    traj[k,:]=[q[1],q[2],enew,accept];\n",
    "end"
   ]
  },
  {
   "cell_type": "code",
   "execution_count": 12,
   "metadata": {},
   "outputs": [
    {
     "data": {
      "text/plain": [
       "1000000×4 Array{Float64,2}:\n",
       " 0.0230739  0.0235243  169.136   1.0\n",
       " 0.0577568  0.0700522  167.477   1.0\n",
       " 0.0973518  0.0927277  166.2     1.0\n",
       " 0.127183   0.135412   164.5     1.0\n",
       " 0.131308   0.171037   163.447   1.0\n",
       " 0.16546    0.210569   161.58    1.0\n",
       " 0.169338   0.249568   160.344   1.0\n",
       " 0.19556    0.277567   158.867   1.0\n",
       " 0.20688    0.279799   158.517   1.0\n",
       " 0.207794   0.315461   157.375   1.0\n",
       " 0.234537   0.361895   155.17    1.0\n",
       " 0.255138   0.394218   153.521   1.0\n",
       " 0.296169   0.43845    150.803   1.0\n",
       " ⋮                                  \n",
       " 3.09625    3.05432    -62.4442  0.0\n",
       " 3.09625    3.05432    -62.4442  0.0\n",
       " 3.09625    3.05432    -62.4442  0.0\n",
       " 3.09625    3.05432    -62.4442  0.0\n",
       " 3.09625    3.05432    -62.4442  0.0\n",
       " 3.09625    3.05432    -62.4442  0.0\n",
       " 3.09625    3.05432    -62.4442  0.0\n",
       " 3.09625    3.05432    -62.4442  0.0\n",
       " 3.09625    3.05432    -62.4442  0.0\n",
       " 3.09625    3.05432    -62.4442  0.0\n",
       " 3.09625    3.05432    -62.4442  0.0\n",
       " 3.09625    3.05432    -62.4442  0.0"
      ]
     },
     "execution_count": 12,
     "metadata": {},
     "output_type": "execute_result"
    }
   ],
   "source": [
    "traj"
   ]
  },
  {
   "cell_type": "code",
   "execution_count": null,
   "metadata": {
    "collapsed": true
   },
   "outputs": [],
   "source": []
  }
 ],
 "metadata": {
  "kernelspec": {
   "display_name": "Julia 0.6.0",
   "language": "julia",
   "name": "julia-0.6"
  },
  "language_info": {
   "file_extension": ".jl",
   "mimetype": "application/julia",
   "name": "julia",
   "version": "0.6.0"
  }
 },
 "nbformat": 4,
 "nbformat_minor": 2
}
